{
 "cells": [
  {
   "cell_type": "markdown",
   "id": "5e1bcdc3",
   "metadata": {
    "id": "k3t-_SEL22iW",
    "papermill": {
     "duration": 0.017399,
     "end_time": "2021-08-29T09:56:06.683072",
     "exception": false,
     "start_time": "2021-08-29T09:56:06.665673",
     "status": "completed"
    },
    "tags": []
   },
   "source": [
    "\n",
    "\n",
    "\n",
    "## Regressioin Problem"
   ]
  },
  {
   "cell_type": "code",
   "execution_count": 1,
   "id": "bff76579",
   "metadata": {
    "execution": {
     "iopub.execute_input": "2021-08-29T09:56:06.722595Z",
     "iopub.status.busy": "2021-08-29T09:56:06.720740Z",
     "iopub.status.idle": "2021-08-29T09:56:13.844920Z",
     "shell.execute_reply": "2021-08-29T09:56:13.844103Z",
     "shell.execute_reply.started": "2021-08-29T09:55:15.218564Z"
    },
    "id": "YRSTe0EC3IWj",
    "papermill": {
     "duration": 7.144609,
     "end_time": "2021-08-29T09:56:13.845111",
     "exception": false,
     "start_time": "2021-08-29T09:56:06.700502",
     "status": "completed"
    },
    "tags": []
   },
   "outputs": [],
   "source": [
    "import numpy as np\n",
    "import pandas as pd\n",
    "import tensorflow as tf\n",
    "from sklearn.model_selection import KFold\n",
    "from sklearn import preprocessing\n",
    "import matplotlib.pyplot as plt\n",
    "from sklearn.model_selection import cross_val_score\n",
    "from tensorflow.keras.layers import Dense\n",
    "from tensorflow.keras import layers\n",
    "from tensorflow.keras import models"
   ]
  },
  {
   "cell_type": "code",
   "execution_count": 2,
   "id": "3d53baad",
   "metadata": {
    "execution": {
     "iopub.execute_input": "2021-08-29T09:56:13.879920Z",
     "iopub.status.busy": "2021-08-29T09:56:13.879280Z",
     "iopub.status.idle": "2021-08-29T09:56:13.883080Z",
     "shell.execute_reply": "2021-08-29T09:56:13.882440Z",
     "shell.execute_reply.started": "2021-08-29T09:55:15.226256Z"
    },
    "id": "6rD5820A9NlM",
    "outputId": "8f18fcbe-0b2c-4f34-a691-e4ad80ebc157",
    "papermill": {
     "duration": 0.02331,
     "end_time": "2021-08-29T09:56:13.883228",
     "exception": false,
     "start_time": "2021-08-29T09:56:13.859918",
     "status": "completed"
    },
    "tags": []
   },
   "outputs": [],
   "source": [
    "#from google.colab import drive\n",
    "\n",
    "#drive.mount('/content/gdrive')"
   ]
  },
  {
   "cell_type": "markdown",
   "id": "0446059c",
   "metadata": {
    "id": "GDdQD3i7MdhU",
    "papermill": {
     "duration": 0.01431,
     "end_time": "2021-08-29T09:56:13.912394",
     "exception": false,
     "start_time": "2021-08-29T09:56:13.898084",
     "status": "completed"
    },
    "tags": []
   },
   "source": [
    "### Loading data "
   ]
  },
  {
   "cell_type": "code",
   "execution_count": 3,
   "id": "fb6f8adb",
   "metadata": {
    "execution": {
     "iopub.execute_input": "2021-08-29T09:56:13.949836Z",
     "iopub.status.busy": "2021-08-29T09:56:13.949192Z",
     "iopub.status.idle": "2021-08-29T09:56:13.990183Z",
     "shell.execute_reply": "2021-08-29T09:56:13.989551Z",
     "shell.execute_reply.started": "2021-08-29T09:55:15.242052Z"
    },
    "id": "5jkkXTMW_qj8",
    "papermill": {
     "duration": 0.062356,
     "end_time": "2021-08-29T09:56:13.990327",
     "exception": false,
     "start_time": "2021-08-29T09:56:13.927971",
     "status": "completed"
    },
    "tags": []
   },
   "outputs": [],
   "source": [
    "train_data = pd.read_csv(\"../input/toy-cement-strength-data-set/TrainData.csv\", header=None, delimiter= \" \") \n",
    "\n",
    "train_labels = pd.read_csv(\"../input/toy-cement-strength-data-set/TrainLabels.csv\", header=None, delimiter= \" \")\n",
    "\n",
    "test_data = pd.read_csv(\"../input/toy-cement-strength-data-set/TestData.csv\", header=None, delimiter= \" \")\n",
    "\n"
   ]
  },
  {
   "cell_type": "markdown",
   "id": "1308ecac",
   "metadata": {
    "id": "0EGlVy71lFPt",
    "papermill": {
     "duration": 0.014557,
     "end_time": "2021-08-29T09:56:14.019910",
     "exception": false,
     "start_time": "2021-08-29T09:56:14.005353",
     "status": "completed"
    },
    "tags": []
   },
   "source": [
    "### Looking dimensions of data"
   ]
  },
  {
   "cell_type": "code",
   "execution_count": 4,
   "id": "644c6903",
   "metadata": {
    "execution": {
     "iopub.execute_input": "2021-08-29T09:56:14.059940Z",
     "iopub.status.busy": "2021-08-29T09:56:14.059003Z",
     "iopub.status.idle": "2021-08-29T09:56:14.063057Z",
     "shell.execute_reply": "2021-08-29T09:56:14.063546Z",
     "shell.execute_reply.started": "2021-08-29T09:55:15.272337Z"
    },
    "id": "jW9oTHJFjQIo",
    "outputId": "134b1233-f537-4009-d32e-6308774b3ff2",
    "papermill": {
     "duration": 0.028298,
     "end_time": "2021-08-29T09:56:14.063739",
     "exception": false,
     "start_time": "2021-08-29T09:56:14.035441",
     "status": "completed"
    },
    "tags": []
   },
   "outputs": [
    {
     "data": {
      "text/plain": [
       "((824, 8), (824, 1), (206, 8))"
      ]
     },
     "execution_count": 4,
     "metadata": {},
     "output_type": "execute_result"
    }
   ],
   "source": [
    "train_data.shape  , train_labels.shape  , test_data.shape"
   ]
  },
  {
   "cell_type": "code",
   "execution_count": 5,
   "id": "dd6939c8",
   "metadata": {
    "execution": {
     "iopub.execute_input": "2021-08-29T09:56:14.102409Z",
     "iopub.status.busy": "2021-08-29T09:56:14.101684Z",
     "iopub.status.idle": "2021-08-29T09:56:14.129172Z",
     "shell.execute_reply": "2021-08-29T09:56:14.128428Z",
     "shell.execute_reply.started": "2021-08-29T09:55:15.282032Z"
    },
    "id": "5nAhnilwjmnX",
    "outputId": "d1386344-db47-41d3-9a4e-9ec228a6f6c8",
    "papermill": {
     "duration": 0.048849,
     "end_time": "2021-08-29T09:56:14.129337",
     "exception": false,
     "start_time": "2021-08-29T09:56:14.080488",
     "status": "completed"
    },
    "tags": []
   },
   "outputs": [
    {
     "data": {
      "text/html": [
       "<div>\n",
       "<style scoped>\n",
       "    .dataframe tbody tr th:only-of-type {\n",
       "        vertical-align: middle;\n",
       "    }\n",
       "\n",
       "    .dataframe tbody tr th {\n",
       "        vertical-align: top;\n",
       "    }\n",
       "\n",
       "    .dataframe thead th {\n",
       "        text-align: right;\n",
       "    }\n",
       "</style>\n",
       "<table border=\"1\" class=\"dataframe\">\n",
       "  <thead>\n",
       "    <tr style=\"text-align: right;\">\n",
       "      <th></th>\n",
       "      <th>0</th>\n",
       "      <th>1</th>\n",
       "      <th>2</th>\n",
       "      <th>3</th>\n",
       "      <th>4</th>\n",
       "      <th>5</th>\n",
       "      <th>6</th>\n",
       "      <th>7</th>\n",
       "    </tr>\n",
       "  </thead>\n",
       "  <tbody>\n",
       "    <tr>\n",
       "      <th>0</th>\n",
       "      <td>233.81</td>\n",
       "      <td>0.0</td>\n",
       "      <td>94.58</td>\n",
       "      <td>197.89</td>\n",
       "      <td>4.567</td>\n",
       "      <td>947.04</td>\n",
       "      <td>852.16</td>\n",
       "      <td>100.0</td>\n",
       "    </tr>\n",
       "    <tr>\n",
       "      <th>1</th>\n",
       "      <td>194.68</td>\n",
       "      <td>0.0</td>\n",
       "      <td>100.52</td>\n",
       "      <td>170.17</td>\n",
       "      <td>7.480</td>\n",
       "      <td>998.00</td>\n",
       "      <td>901.80</td>\n",
       "      <td>28.0</td>\n",
       "    </tr>\n",
       "    <tr>\n",
       "      <th>2</th>\n",
       "      <td>275.07</td>\n",
       "      <td>0.0</td>\n",
       "      <td>121.35</td>\n",
       "      <td>159.48</td>\n",
       "      <td>9.900</td>\n",
       "      <td>1053.60</td>\n",
       "      <td>777.50</td>\n",
       "      <td>3.0</td>\n",
       "    </tr>\n",
       "    <tr>\n",
       "      <th>3</th>\n",
       "      <td>289.00</td>\n",
       "      <td>0.0</td>\n",
       "      <td>0.00</td>\n",
       "      <td>192.00</td>\n",
       "      <td>0.000</td>\n",
       "      <td>913.20</td>\n",
       "      <td>895.30</td>\n",
       "      <td>7.0</td>\n",
       "    </tr>\n",
       "    <tr>\n",
       "      <th>4</th>\n",
       "      <td>310.00</td>\n",
       "      <td>143.0</td>\n",
       "      <td>0.00</td>\n",
       "      <td>168.00</td>\n",
       "      <td>10.000</td>\n",
       "      <td>914.00</td>\n",
       "      <td>804.00</td>\n",
       "      <td>28.0</td>\n",
       "    </tr>\n",
       "  </tbody>\n",
       "</table>\n",
       "</div>"
      ],
      "text/plain": [
       "        0      1       2       3       4        5       6      7\n",
       "0  233.81    0.0   94.58  197.89   4.567   947.04  852.16  100.0\n",
       "1  194.68    0.0  100.52  170.17   7.480   998.00  901.80   28.0\n",
       "2  275.07    0.0  121.35  159.48   9.900  1053.60  777.50    3.0\n",
       "3  289.00    0.0    0.00  192.00   0.000   913.20  895.30    7.0\n",
       "4  310.00  143.0    0.00  168.00  10.000   914.00  804.00   28.0"
      ]
     },
     "execution_count": 5,
     "metadata": {},
     "output_type": "execute_result"
    }
   ],
   "source": [
    "train_data.head()"
   ]
  },
  {
   "cell_type": "code",
   "execution_count": 6,
   "id": "4f6264ce",
   "metadata": {
    "execution": {
     "iopub.execute_input": "2021-08-29T09:56:14.165700Z",
     "iopub.status.busy": "2021-08-29T09:56:14.164687Z",
     "iopub.status.idle": "2021-08-29T09:56:14.184700Z",
     "shell.execute_reply": "2021-08-29T09:56:14.184067Z",
     "shell.execute_reply.started": "2021-08-29T09:55:15.304258Z"
    },
    "id": "JTwllIpGk2S-",
    "outputId": "c6d5d0a0-e53e-4329-fee8-502a5f6f89e7",
    "papermill": {
     "duration": 0.039393,
     "end_time": "2021-08-29T09:56:14.184868",
     "exception": false,
     "start_time": "2021-08-29T09:56:14.145475",
     "status": "completed"
    },
    "tags": []
   },
   "outputs": [
    {
     "data": {
      "text/html": [
       "<div>\n",
       "<style scoped>\n",
       "    .dataframe tbody tr th:only-of-type {\n",
       "        vertical-align: middle;\n",
       "    }\n",
       "\n",
       "    .dataframe tbody tr th {\n",
       "        vertical-align: top;\n",
       "    }\n",
       "\n",
       "    .dataframe thead th {\n",
       "        text-align: right;\n",
       "    }\n",
       "</style>\n",
       "<table border=\"1\" class=\"dataframe\">\n",
       "  <thead>\n",
       "    <tr style=\"text-align: right;\">\n",
       "      <th></th>\n",
       "      <th>0</th>\n",
       "      <th>1</th>\n",
       "      <th>2</th>\n",
       "      <th>3</th>\n",
       "      <th>4</th>\n",
       "      <th>5</th>\n",
       "      <th>6</th>\n",
       "      <th>7</th>\n",
       "    </tr>\n",
       "  </thead>\n",
       "  <tbody>\n",
       "    <tr>\n",
       "      <th>0</th>\n",
       "      <td>162.00</td>\n",
       "      <td>214.0</td>\n",
       "      <td>164.00</td>\n",
       "      <td>202.00</td>\n",
       "      <td>10.00</td>\n",
       "      <td>820.0</td>\n",
       "      <td>680.00</td>\n",
       "      <td>28.0</td>\n",
       "    </tr>\n",
       "    <tr>\n",
       "      <th>1</th>\n",
       "      <td>136.00</td>\n",
       "      <td>162.0</td>\n",
       "      <td>126.00</td>\n",
       "      <td>172.00</td>\n",
       "      <td>10.00</td>\n",
       "      <td>923.0</td>\n",
       "      <td>764.00</td>\n",
       "      <td>28.0</td>\n",
       "    </tr>\n",
       "    <tr>\n",
       "      <th>2</th>\n",
       "      <td>167.35</td>\n",
       "      <td>129.9</td>\n",
       "      <td>128.62</td>\n",
       "      <td>175.46</td>\n",
       "      <td>7.79</td>\n",
       "      <td>1006.3</td>\n",
       "      <td>746.60</td>\n",
       "      <td>56.0</td>\n",
       "    </tr>\n",
       "    <tr>\n",
       "      <th>3</th>\n",
       "      <td>252.00</td>\n",
       "      <td>0.0</td>\n",
       "      <td>0.00</td>\n",
       "      <td>186.00</td>\n",
       "      <td>0.00</td>\n",
       "      <td>1111.0</td>\n",
       "      <td>784.00</td>\n",
       "      <td>7.0</td>\n",
       "    </tr>\n",
       "    <tr>\n",
       "      <th>4</th>\n",
       "      <td>166.09</td>\n",
       "      <td>0.0</td>\n",
       "      <td>163.27</td>\n",
       "      <td>176.46</td>\n",
       "      <td>4.49</td>\n",
       "      <td>1058.6</td>\n",
       "      <td>780.09</td>\n",
       "      <td>14.0</td>\n",
       "    </tr>\n",
       "  </tbody>\n",
       "</table>\n",
       "</div>"
      ],
      "text/plain": [
       "        0      1       2       3      4       5       6     7\n",
       "0  162.00  214.0  164.00  202.00  10.00   820.0  680.00  28.0\n",
       "1  136.00  162.0  126.00  172.00  10.00   923.0  764.00  28.0\n",
       "2  167.35  129.9  128.62  175.46   7.79  1006.3  746.60  56.0\n",
       "3  252.00    0.0    0.00  186.00   0.00  1111.0  784.00   7.0\n",
       "4  166.09    0.0  163.27  176.46   4.49  1058.6  780.09  14.0"
      ]
     },
     "execution_count": 6,
     "metadata": {},
     "output_type": "execute_result"
    }
   ],
   "source": [
    "test_data.head()"
   ]
  },
  {
   "cell_type": "markdown",
   "id": "f617b4b4",
   "metadata": {
    "id": "jYMA5KhjlJrt",
    "papermill": {
     "duration": 0.017059,
     "end_time": "2021-08-29T09:56:14.218435",
     "exception": false,
     "start_time": "2021-08-29T09:56:14.201376",
     "status": "completed"
    },
    "tags": []
   },
   "source": [
    "### Normalizing Data set"
   ]
  },
  {
   "cell_type": "markdown",
   "id": "1d21c9aa",
   "metadata": {
    "id": "5eKGK8gaHB2J",
    "papermill": {
     "duration": 0.016176,
     "end_time": "2021-08-29T09:56:14.251623",
     "exception": false,
     "start_time": "2021-08-29T09:56:14.235447",
     "status": "completed"
    },
    "tags": []
   },
   "source": [
    "## Random Forest\n"
   ]
  },
  {
   "cell_type": "code",
   "execution_count": 7,
   "id": "ee8ea7e6",
   "metadata": {
    "execution": {
     "iopub.execute_input": "2021-08-29T09:56:14.295477Z",
     "iopub.status.busy": "2021-08-29T09:56:14.294567Z",
     "iopub.status.idle": "2021-08-29T09:56:14.297856Z",
     "shell.execute_reply": "2021-08-29T09:56:14.297186Z",
     "shell.execute_reply.started": "2021-08-29T09:55:15.330484Z"
    },
    "id": "JLMPAaSD3HQ8",
    "papermill": {
     "duration": 0.029781,
     "end_time": "2021-08-29T09:56:14.298051",
     "exception": false,
     "start_time": "2021-08-29T09:56:14.268270",
     "status": "completed"
    },
    "tags": []
   },
   "outputs": [],
   "source": [
    "# Using Skicit-learn to split data into training and testing sets\n",
    "from sklearn.model_selection import train_test_split\n",
    "\n",
    "# Split the data into training and testing sets\n",
    "train_features, test_features, train_labels, test_labels = train_test_split(train_data, train_labels, test_size = 0.25, random_state = 42)"
   ]
  },
  {
   "cell_type": "code",
   "execution_count": 8,
   "id": "e893648e",
   "metadata": {
    "execution": {
     "iopub.execute_input": "2021-08-29T09:56:14.339990Z",
     "iopub.status.busy": "2021-08-29T09:56:14.338798Z",
     "iopub.status.idle": "2021-08-29T09:56:14.343240Z",
     "shell.execute_reply": "2021-08-29T09:56:14.342642Z",
     "shell.execute_reply.started": "2021-08-29T09:55:15.338877Z"
    },
    "id": "5LSFs67l9Ose",
    "outputId": "afd67cfd-7e3b-4fe3-a1ec-2680dd91e975",
    "papermill": {
     "duration": 0.028208,
     "end_time": "2021-08-29T09:56:14.343396",
     "exception": false,
     "start_time": "2021-08-29T09:56:14.315188",
     "status": "completed"
    },
    "tags": []
   },
   "outputs": [
    {
     "data": {
      "text/plain": [
       "((618, 8), (618, 1), (206, 8), (206, 1))"
      ]
     },
     "execution_count": 8,
     "metadata": {},
     "output_type": "execute_result"
    }
   ],
   "source": [
    "train_features.shape  , train_labels.shape ,  test_features.shape  , test_labels.shape "
   ]
  },
  {
   "cell_type": "code",
   "execution_count": 9,
   "id": "5073aa07",
   "metadata": {
    "execution": {
     "iopub.execute_input": "2021-08-29T09:56:14.383529Z",
     "iopub.status.busy": "2021-08-29T09:56:14.382808Z",
     "iopub.status.idle": "2021-08-29T09:56:14.386188Z",
     "shell.execute_reply": "2021-08-29T09:56:14.385650Z",
     "shell.execute_reply.started": "2021-08-29T09:55:15.356444Z"
    },
    "id": "q8AXNUH9HQZl",
    "papermill": {
     "duration": 0.025525,
     "end_time": "2021-08-29T09:56:14.386351",
     "exception": false,
     "start_time": "2021-08-29T09:56:14.360826",
     "status": "completed"
    },
    "tags": []
   },
   "outputs": [],
   "source": [
    "train_label = train_labels.to_numpy()\n",
    "#train_features = train_features.to_numpy()"
   ]
  },
  {
   "cell_type": "code",
   "execution_count": 10,
   "id": "d4cd8fbd",
   "metadata": {
    "execution": {
     "iopub.execute_input": "2021-08-29T09:56:14.426577Z",
     "iopub.status.busy": "2021-08-29T09:56:14.425729Z",
     "iopub.status.idle": "2021-08-29T09:56:18.269749Z",
     "shell.execute_reply": "2021-08-29T09:56:18.270335Z",
     "shell.execute_reply.started": "2021-08-29T09:55:15.368677Z"
    },
    "id": "W3_BCQdI3QD5",
    "papermill": {
     "duration": 3.867219,
     "end_time": "2021-08-29T09:56:18.270540",
     "exception": false,
     "start_time": "2021-08-29T09:56:14.403321",
     "status": "completed"
    },
    "tags": []
   },
   "outputs": [],
   "source": [
    "# Import the model we are using\n",
    "from sklearn.ensemble import RandomForestRegressor\n",
    "\n",
    "# Instantiate model with 1000 decision trees\n",
    "rf = RandomForestRegressor(n_estimators = 1000, random_state = 42)\n",
    "\n",
    "# Train the model on training data\n",
    "rf.fit(train_features, train_label.ravel());"
   ]
  },
  {
   "cell_type": "code",
   "execution_count": 11,
   "id": "eadfeb57",
   "metadata": {
    "execution": {
     "iopub.execute_input": "2021-08-29T09:56:18.315959Z",
     "iopub.status.busy": "2021-08-29T09:56:18.314634Z",
     "iopub.status.idle": "2021-08-29T09:56:18.442633Z",
     "shell.execute_reply": "2021-08-29T09:56:18.442016Z",
     "shell.execute_reply.started": "2021-08-29T09:55:18.471065Z"
    },
    "id": "6ZMHq0G98Nt0",
    "outputId": "416caf7b-8301-48c8-aaaa-682d5c8e1b6e",
    "papermill": {
     "duration": 0.154172,
     "end_time": "2021-08-29T09:56:18.442787",
     "exception": false,
     "start_time": "2021-08-29T09:56:18.288615",
     "status": "completed"
    },
    "tags": []
   },
   "outputs": [
    {
     "name": "stdout",
     "output_type": "stream",
     "text": [
      "Mean Absolute Error: 0    3.818\n",
      "dtype: float64 degrees.\n"
     ]
    }
   ],
   "source": [
    "# Use the forest's predict method on the test data\n",
    "predictions = rf.predict(test_features)\n",
    "predictions = predictions.reshape(206,1)\n",
    "\n",
    "# Calculate the absolute errors\n",
    "errors = abs(predictions - test_labels)\n",
    "\n",
    "# Print out the mean absolute error (mae)\n",
    "print('Mean Absolute Error:', round(np.mean(errors), 3), 'degrees.')"
   ]
  },
  {
   "cell_type": "markdown",
   "id": "201863e4",
   "metadata": {
    "papermill": {
     "duration": 0.016545,
     "end_time": "2021-08-29T09:56:18.476486",
     "exception": false,
     "start_time": "2021-08-29T09:56:18.459941",
     "status": "completed"
    },
    "tags": []
   },
   "source": [
    "## Accuracy "
   ]
  },
  {
   "cell_type": "code",
   "execution_count": 12,
   "id": "54dcdce8",
   "metadata": {
    "execution": {
     "iopub.execute_input": "2021-08-29T09:56:18.520151Z",
     "iopub.status.busy": "2021-08-29T09:56:18.519119Z",
     "iopub.status.idle": "2021-08-29T09:56:18.523813Z",
     "shell.execute_reply": "2021-08-29T09:56:18.524426Z",
     "shell.execute_reply.started": "2021-08-29T09:55:18.585032Z"
    },
    "id": "UduY1IHr9tyD",
    "outputId": "703d10f0-2d5c-432d-fe07-b38a9549f34d",
    "papermill": {
     "duration": 0.031243,
     "end_time": "2021-08-29T09:56:18.524595",
     "exception": false,
     "start_time": "2021-08-29T09:56:18.493352",
     "status": "completed"
    },
    "tags": []
   },
   "outputs": [
    {
     "name": "stdout",
     "output_type": "stream",
     "text": [
      "Accuracy: 0    85.11\n",
      "dtype: float64 %.\n"
     ]
    }
   ],
   "source": [
    "# Calculate mean absolute percentage error (MAPE)\n",
    "mape = 100 * (errors / test_labels)\n",
    "\n",
    "# Calculate and display accuracy\n",
    "accuracy = 100 - np.mean(mape)\n",
    "print('Accuracy:', round(accuracy, 2), '%.')"
   ]
  },
  {
   "cell_type": "markdown",
   "id": "ead04361",
   "metadata": {
    "id": "315ONgLocMYo",
    "papermill": {
     "duration": 0.017028,
     "end_time": "2021-08-29T09:56:18.559236",
     "exception": false,
     "start_time": "2021-08-29T09:56:18.542208",
     "status": "completed"
    },
    "tags": []
   },
   "source": [
    "### Saving predications from Random Forest"
   ]
  },
  {
   "cell_type": "code",
   "execution_count": 13,
   "id": "54e9067f",
   "metadata": {
    "execution": {
     "iopub.execute_input": "2021-08-29T09:56:18.598258Z",
     "iopub.status.busy": "2021-08-29T09:56:18.597561Z",
     "iopub.status.idle": "2021-08-29T09:56:18.602273Z",
     "shell.execute_reply": "2021-08-29T09:56:18.602781Z",
     "shell.execute_reply.started": "2021-08-29T09:55:18.594999Z"
    },
    "id": "gaKeLFJNcHTZ",
    "papermill": {
     "duration": 0.026427,
     "end_time": "2021-08-29T09:56:18.603022",
     "exception": false,
     "start_time": "2021-08-29T09:56:18.576595",
     "status": "completed"
    },
    "tags": []
   },
   "outputs": [],
   "source": [
    "predicted_values = pd.DataFrame(predictions)\n",
    "predicted_values.columns = [\"predicted_labels using Random Forest\"]\n",
    "# Un comment last line to get predications in csv file (y)\n",
    "#predicted_values.to_csv(\"../input/toy-cement-strength-data-set/Random_Forest_testing_labels.csv\")"
   ]
  }
 ],
 "metadata": {
  "kernelspec": {
   "display_name": "Python 3",
   "language": "python",
   "name": "python3"
  },
  "language_info": {
   "codemirror_mode": {
    "name": "ipython",
    "version": 3
   },
   "file_extension": ".py",
   "mimetype": "text/x-python",
   "name": "python",
   "nbconvert_exporter": "python",
   "pygments_lexer": "ipython3",
   "version": "3.7.10"
  },
  "papermill": {
   "default_parameters": {},
   "duration": 22.869287,
   "end_time": "2021-08-29T09:56:20.878694",
   "environment_variables": {},
   "exception": null,
   "input_path": "__notebook__.ipynb",
   "output_path": "__notebook__.ipynb",
   "parameters": {},
   "start_time": "2021-08-29T09:55:58.009407",
   "version": "2.3.3"
  }
 },
 "nbformat": 4,
 "nbformat_minor": 5
}
